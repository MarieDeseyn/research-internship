{
  "nbformat": 4,
  "nbformat_minor": 0,
  "metadata": {
    "colab": {
      "provenance": []
    },
    "kernelspec": {
      "name": "python3",
      "display_name": "Python 3"
    },
    "language_info": {
      "name": "python"
    }
  },
  "cells": [
    {
      "cell_type": "markdown",
      "source": [
        "#Importing the libraries"
      ],
      "metadata": {
        "id": "tS198M_w4OVl"
      }
    },
    {
      "cell_type": "code",
      "execution_count": null,
      "metadata": {
        "id": "9kgTwCtm4Kcv"
      },
      "outputs": [],
      "source": [
        "import tensorflow as tf\n",
        "print(\"TensorFlow version:\", tf.__version__)\n",
        "\n",
        "import numpy as np\n",
        "import matplotlib.pyplot as plt\n",
        "import os\n",
        "import seaborn as sns\n",
        "from tensorflow import keras\n",
        "from tensorflow.keras import layers\n",
        "from sklearn.model_selection import train_test_split\n",
        "from keras.models import Sequential\n",
        "from keras.layers import Dense, Conv2D, MaxPooling2D, Dropout, Flatten"
      ]
    },
    {
      "cell_type": "markdown",
      "source": [
        "# Initialize train and test dataset"
      ],
      "metadata": {
        "id": "5gUBRQDI4oyV"
      }
    },
    {
      "cell_type": "markdown",
      "source": [
        "Making the grids"
      ],
      "metadata": {
        "id": "Xx0uW7XO4r37"
      }
    },
    {
      "cell_type": "code",
      "source": [
        "targetdata =  #data that we want to predict\n",
        "dim_targetdata =  #number of values that need to be predicted per input point\n",
        "grids =  #input igures\n",
        "dimgrids =  #dimensionality of the grids\n",
        "train_size =  #number of datapoints in the train dataset\n",
        "test_size =  #number of datapoints in the test dataset\n",
        "dim_latent_space =  #dimension of the latent space representation"
      ],
      "metadata": {
        "id": "oMvdus7R4lkG"
      },
      "execution_count": null,
      "outputs": []
    },
    {
      "cell_type": "code",
      "source": [
        "indexen = range(len(targetdata))\n",
        "X_trainges, X_testges, indexen_trainges_final, indexen_testges_final = train_test_split(grids, indexen, train_size=train_size, test_size=test_size, random_state=333)\n",
        "training_yges = targetdata[indexen_trainges_final]\n",
        "y_testges = targetdata[indexen_testges_final]"
      ],
      "metadata": {
        "id": "63NlF3555Hmm"
      },
      "execution_count": null,
      "outputs": []
    },
    {
      "cell_type": "code",
      "source": [
        "X1 = np.array(X_trainges).reshape(len(X_trainges), dimgrids,dimgrids,1)\n",
        "Y = np.array(training_yges).reshape(len(training_yges), dim_targetdata)"
      ],
      "metadata": {
        "id": "Gf8pc7uw5Jo2"
      },
      "execution_count": null,
      "outputs": []
    },
    {
      "cell_type": "markdown",
      "source": [
        "# Make the model"
      ],
      "metadata": {
        "id": "PEZswRZz5PP1"
      }
    },
    {
      "cell_type": "code",
      "source": [
        "models = Sequential()\n",
        "models.add(Conv2D(9,kernel_size=5,activation='relu',input_shape=(dimgrids, dimgrids, 1)))\n",
        "models.add(MaxPooling2D(2, 2))\n",
        "models.add(Flatten())\n",
        "models.add(Dense(512, activation='relu'))\n",
        "models.add(Dropout(0.1))\n",
        "models.add(Dense(dim_targetdata))\n",
        "models.compile(optimizer=\"adam\", loss=\"mse\", metrics=[\"accuracy\"])\n",
        "models.summary()"
      ],
      "metadata": {
        "id": "dRzP_XNo5Q5D"
      },
      "execution_count": null,
      "outputs": []
    },
    {
      "cell_type": "code",
      "source": [
        "hists = models.fit(X1, Y, epochs=500,validation_split=0.2,batch_size=32)"
      ],
      "metadata": {
        "id": "P4kxzAkX5TUD"
      },
      "execution_count": null,
      "outputs": []
    },
    {
      "cell_type": "markdown",
      "source": [
        "Final prediction"
      ],
      "metadata": {
        "id": "-Nwk1b-56xNO"
      }
    },
    {
      "cell_type": "code",
      "source": [
        "X_input = np.array(grids).reshape(len(grids), dimgrids,dimgrids,1)\n",
        "predictie = models.predict(X_input)"
      ],
      "metadata": {
        "id": "y2h4C7Lj6tfr"
      },
      "execution_count": null,
      "outputs": []
    }
  ]
}