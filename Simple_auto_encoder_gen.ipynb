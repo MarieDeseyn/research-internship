{
  "nbformat": 4,
  "nbformat_minor": 0,
  "metadata": {
    "colab": {
      "provenance": []
    },
    "kernelspec": {
      "name": "python3",
      "display_name": "Python 3"
    },
    "language_info": {
      "name": "python"
    }
  },
  "cells": [
    {
      "cell_type": "markdown",
      "source": [
        "# Import the libraries that are needed"
      ],
      "metadata": {
        "id": "JBZSddz9_52K"
      }
    },
    {
      "cell_type": "code",
      "execution_count": null,
      "metadata": {
        "id": "1Nkx4nW18xGp"
      },
      "outputs": [],
      "source": [
        "import tensorflow as tf\n",
        "print(\"TensorFlow version:\", tf.__version__)\n",
        "\n",
        "import numpy as np\n",
        "import matplotlib.pyplot as plt\n",
        "import os\n",
        "import seaborn as sns\n",
        "from tensorflow import keras\n",
        "from tensorflow.keras import layers\n",
        "from sklearn.model_selection import train_test_split"
      ]
    },
    {
      "cell_type": "markdown",
      "source": [
        "# Initialize train and test dataset"
      ],
      "metadata": {
        "id": "Jx6WYDzh_-uQ"
      }
    },
    {
      "cell_type": "code",
      "source": [
        "targetdata =  #data that we want to predict\n",
        "dim_targetdata =  #number of values that need to be predicted per input point\n",
        "modinfo =  #input data for the model\n",
        "dim_modinfo =#number of input parameters per input point\n",
        "train_size =  #number of datapoints in the train dataset\n",
        "test_size = #number of datapoints in the test dataset\n",
        "dim_latent_space = #dimension of the latent space representation"
      ],
      "metadata": {
        "id": "QfkzvtwFAHeD"
      },
      "execution_count": null,
      "outputs": []
    },
    {
      "cell_type": "code",
      "source": [
        "indexen = range(len(targetdata))\n",
        "\n",
        "#X_trainges, X_testges, training_yges, y_testges = train_test_split(modinfo, verschilgeschaald, train_size=2500, test_size=2400, random_state=333)\n",
        "verschilgeschaald_train, verschilgeschaald_test, indexen_trainges, indexen_testges = train_test_split(targetdata, indexen, train_size=train_size, test_size=test_size, random_state=333)\n"
      ],
      "metadata": {
        "id": "8G_5NjJo__3_"
      },
      "execution_count": null,
      "outputs": []
    },
    {
      "cell_type": "markdown",
      "source": [
        "#Creating the encoder-decoder"
      ],
      "metadata": {
        "id": "muarWVKxA7bl"
      }
    },
    {
      "cell_type": "code",
      "source": [
        "X = np.array(verschilgeschaald_train).reshape(len(verschilgeschaald_train), dim_targetdata)\n",
        "\n",
        "params_input = keras.Input(shape=(dim_targetdata)) #creating the input layer\n",
        "encoder = tf.keras.layers.Dense(dim_latent_space)(params_input) \n",
        "decoder = tf.keras.layers.Dense(dim_targetdata)(encoder)\n",
        "\n",
        "model = keras.Model(inputs=params_input,outputs=decoder)\n",
        "model.compile(optimizer='adam', loss='mse')\n",
        "model.summary()\n",
        "hist = model.fit(X,X,epochs=1000,validation_split=0.2,batch_size=32)"
      ],
      "metadata": {
        "id": "vKl_8jKmA9n7"
      },
      "execution_count": null,
      "outputs": []
    },
    {
      "cell_type": "markdown",
      "source": [
        "# Extract the hidden states"
      ],
      "metadata": {
        "id": "GnaHaERuDGk_"
      }
    },
    {
      "cell_type": "code",
      "source": [
        "Xen = np.array(targetdata).reshape(len(targetdata), 99)\n",
        "layer_output=model.get_layer('dense').output #'dense' is the name of the encoder layer, if the algorithm is performed multiple times, the name changes to dense_number\n",
        "intermediate_model=tf.keras.models.Model(inputs=params_input,outputs=layer_output)\n",
        "tussen=intermediate_model.predict(Xen) # = hidden vectors\n",
        "np.savetxt(\"hidden.csv\", tussen, delimiter=\",\")"
      ],
      "metadata": {
        "id": "lwXzTjm4Bq49"
      },
      "execution_count": null,
      "outputs": []
    },
    {
      "cell_type": "markdown",
      "source": [
        "# Make decoder model"
      ],
      "metadata": {
        "id": "TEi21urNDjHp"
      }
    },
    {
      "cell_type": "code",
      "source": [
        "layer_hidden = model.get_layer('dense').output #'dense' is the name of the encoder layer, if the algorithm is performed multiple times, the name changes to dense_number\n",
        "decoder_model = tf.keras.models.Model(inputs=layer_hidden,outputs=decoder)"
      ],
      "metadata": {
        "id": "zmhn4fJGDk4y"
      },
      "execution_count": null,
      "outputs": []
    },
    {
      "cell_type": "markdown",
      "source": [
        "# Train the neural network to predict the hidden states"
      ],
      "metadata": {
        "id": "prddzw4vDqQo"
      }
    },
    {
      "cell_type": "code",
      "source": [
        "#3 layers with 100, 20 and dim_latent_space neurons, as dim_latent_space changes the number of neurons in the layers might need to be changed to obtain an optimal model\n",
        "modinfo_train = modinfo[indexen_trainges]\n",
        "tussen_train = tussen[indexen_trainges]\n",
        "X= np.array(modinfo_train).reshape(len(modinfo_train), dim_modinfo)\n",
        "Y = np.array(tussen_train).reshape(len(tussen_train), dim_latent_space)\n",
        "\n",
        "params_input = keras.Input(shape=(dim_modinfo))\n",
        "lay1 = tf.keras.layers.Dense(100)(params_input)\n",
        "lay2 = tf.keras.layers.Dense(20)(lay1)\n",
        "lay3 = tf.keras.layers.Dense(dim_latent_space)(lay2)\n",
        "\n",
        "modelnn = keras.Model(inputs=params_input,outputs=lay3)\n",
        "modelnn.compile(optimizer='adam', loss='mse')\n",
        "modelnn.summary()\n",
        "hist = modelnn.fit(X,Y,epochs=1000,validation_split=0.2,batch_size=32)"
      ],
      "metadata": {
        "id": "20Cs4bQ1Dtme"
      },
      "execution_count": null,
      "outputs": []
    },
    {
      "cell_type": "markdown",
      "source": [
        "# Use the decoder to go back to the full representation "
      ],
      "metadata": {
        "id": "srvIlGbbFb5_"
      }
    },
    {
      "cell_type": "code",
      "source": [
        "Xtot = np.array(modinfo).reshape(len(modinfo), dim_modinfo)\n",
        "ouputnn = np.array(modelnn.predict(Xtot))\n",
        "ouputnnfr = np.array(ouputnn).reshape(len(ouputnn),dim_latent_space)\n",
        "predictie = decoder_model.predict(ouputnnges)"
      ],
      "metadata": {
        "id": "njGjxIgaFgES"
      },
      "execution_count": null,
      "outputs": []
    }
  ]
}